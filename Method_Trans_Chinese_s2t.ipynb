{
 "cells": [
  {
   "cell_type": "markdown",
   "metadata": {},
   "source": [
    "# 整個資料夾調用Opencc的方法\n",
    "(0)　下載opencc-1.0.1-win64，解壓縮\n",
    "\n",
    "(1)　把[ opencc-1.0.1-win64 ]的資料夾放到執行ipython notebook的資料夾並改變環境變數\n",
    "\n",
    "    EX 執行資料夾--> C:/usr/BigData\n",
    "       把資料夾放進來--> 變成--> C:/usr/BigData/opencc-1.0.1-win64\n",
    "       並把　' C:/usr/BigData/opencc-1.0.1-win64 ' 加進環境變數\n",
    "\n",
    "(2)　把要轉換的檔案全都放到一個資料夾裡，資料夾放在執行python的那層\n",
    "\n",
    "    EX 新增一資料夾[ AttrSimple100 ]，把要轉換的txt檔都丟進去\n",
    "       變成-->  C:/usr/BigData/AttrSimple100\n",
    "       (注意：TXT檔名只能為英數字，且不得有空白。)\n",
    "       \n",
    "(3)　轉換成功後會在python的資料夾下產生一資料夾，內含原資料夾內所有檔案，且已轉換過。\n",
    "    \n",
    "    EX 自行命名輸出資料夾[ Attr ]\n",
    "       執行完畢在 C:/usr/BigData/Attr\n",
    "       內有所有轉換完的檔案\n",
    "\n",
    "使用範例：\n",
    "\n",
    "    OpenccForDir(DirIn,DirOut,Method)\n",
    "    \n",
    "    DirIn  : 存放所有\"待轉換\"txt檔的資料夾\n",
    "    DirOut : 存放'轉換過'的txt檔的資料夾 (自行命名)\n",
    "    Method : Opencc的轉換方法     \n",
    "             (EX:簡轉繁         -->'s2t.json'\n",
    "                 簡轉繁且轉常用語-->'s2twp.json'\n",
    "                 其餘詳見Opencc官方)\n",
    "                 \n",
    "                 \n",
    "    \n"
   ]
  },
  {
   "cell_type": "code",
   "execution_count": 8,
   "metadata": {
    "collapsed": false
   },
   "outputs": [],
   "source": [
    "def OpenccForDir(DirIn,DirOut,Method):\n",
    "    import os\n",
    "    domain = 'opencc -i {} -o {} -c '+Method\n",
    "    os.popen('mkdir '+DirOut)\n",
    "    for name in os.listdir(DirIn):\n",
    "        os.popen('cd opencc-1.0.1-win64 & '+\\\n",
    "                 domain.format('..\\\\'+DirIn+'\\\\'+name,'..\\\\'+DirOut+'\\\\'+name))"
   ]
  },
  {
   "cell_type": "code",
   "execution_count": null,
   "metadata": {
    "collapsed": false,
    "scrolled": true
   },
   "outputs": [],
   "source": [
    "OpenccForDir('AttrSimple100','Attr','s2twp.json')"
   ]
  }
 ],
 "metadata": {
  "kernelspec": {
   "display_name": "Python 2",
   "language": "python",
   "name": "python2"
  },
  "language_info": {
   "codemirror_mode": {
    "name": "ipython",
    "version": 2
   },
   "file_extension": ".py",
   "mimetype": "text/x-python",
   "name": "python",
   "nbconvert_exporter": "python",
   "pygments_lexer": "ipython2",
   "version": "2.7.11"
  }
 },
 "nbformat": 4,
 "nbformat_minor": 0
}
