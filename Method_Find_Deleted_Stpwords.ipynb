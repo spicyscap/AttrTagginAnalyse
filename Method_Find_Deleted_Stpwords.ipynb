{
 "cells": [
  {
   "cell_type": "markdown",
   "metadata": {},
   "source": [
    "# 找出被去除的停用詞\n",
    "使用方法：\n",
    "\n",
    "    StopVersus( 原資料夾 , 檢查過的資料夾 , 日期)\n",
    "    \n",
    "    原　資　料　夾：[字串]。資料夾名，內含所有的停用詞檔(TXT)\n",
    "    \n",
    "    檢查過的資料夾：[字串]。資料夾名，內含所有檢查過後的停用詞檔(TXT)\n",
    "    \n",
    "    日　　　期　　：[字串]。EX：'20160106'\n",
    "    \n",
    "    使用此法會找出哪些停用詞在檢查時被刪掉了\n",
    "    \n",
    "使用範例：\n",
    "\n",
    "    StopVersus('a','b')\n",
    "    \n",
    "注　　意：\n",
    "\n",
    "    所有TXT檔編碼都要調成 [ ＵＴＦ－８ ] \n",
    "    \n",
    "方法結果：\n",
    "\n",
    "    會在所在的資料夾產生一個TXT檔，\n",
    "    開頭為「StopDiff...」，內含被刪除的停用詞。"
   ]
  },
  {
   "cell_type": "code",
   "execution_count": 1,
   "metadata": {
    "collapsed": true
   },
   "outputs": [],
   "source": [
    "def StopVersus(InputOri,InputChe,Date):\n",
    "    import os\n",
    "    a=set()\n",
    "    b=set()\n",
    "    with open('StopDiff_'+Date+'.txt','w') as f:\n",
    "        for name in os.listdir(InputOri):\n",
    "            for i in open(InputOri+'\\\\'+name,'r'):\n",
    "                a.add(i.strip())\n",
    "        for name in os.listdir(InputChe):\n",
    "            for i in open(InputChe+'\\\\'+name,'r'):\n",
    "                b.add(i.strip())\n",
    "        for w in list(set(a).difference(set(b))):\n",
    "            f.write(w.strip()+'\\n')"
   ]
  },
  {
   "cell_type": "code",
   "execution_count": 2,
   "metadata": {
    "collapsed": true
   },
   "outputs": [],
   "source": [
    "StopVersus('a','b','20160106')"
   ]
  }
 ],
 "metadata": {
  "kernelspec": {
   "display_name": "Python 2",
   "language": "python",
   "name": "python2"
  },
  "language_info": {
   "codemirror_mode": {
    "name": "ipython",
    "version": 2
   },
   "file_extension": ".py",
   "mimetype": "text/x-python",
   "name": "python",
   "nbconvert_exporter": "python",
   "pygments_lexer": "ipython2",
   "version": "2.7.11"
  }
 },
 "nbformat": 4,
 "nbformat_minor": 0
}
