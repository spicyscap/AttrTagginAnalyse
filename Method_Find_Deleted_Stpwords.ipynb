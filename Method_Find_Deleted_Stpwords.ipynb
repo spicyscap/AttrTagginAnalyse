{
 "cells": [
  {
   "cell_type": "markdown",
   "metadata": {},
   "source": [
    "# 找出被去除的停用詞\n",
    "使用方法：\n",
    "\n",
    "    StopVersus( 原資料夾 , 檢查過的資料夾 , 日期)\n",
    "    \n",
    "    原　資　料　夾：[字串]。資料夾名，內含所有的停用詞檔(TXT)\n",
    "    \n",
    "    檢查過的資料夾：[字串]。資料夾名，內含所有檢查過後的停用詞檔(TXT)\n",
    "    \n",
    "    日　　　期　　：[字串]。EX：'20160106'\n",
    "    \n",
    "    使用此法會找出哪些停用詞在檢查時被刪掉了\n",
    "    \n",
    "使用範例：\n",
    "\n",
    "    StopVersus('Stop','Stopc','20160106')\n",
    "    \n",
    "注　　意：\n",
    "\n",
    "    所有TXT檔編碼都要調成 [ ＵＴＦ－８ ]，且檔案內的＂第一行＂要空下來\n",
    "    \n",
    "方法結果：\n",
    "\n",
    "    會在所在的資料夾產生一個TXT檔，\n",
    "    開頭為「StopDiff...」，內含被刪除的停用詞。"
   ]
  },
  {
   "cell_type": "code",
   "execution_count": 1,
   "metadata": {
    "collapsed": true
   },
   "outputs": [],
   "source": [
    "def StopVersus(InputOri,InputChe,Date):\n",
    "    import os\n",
    "    a=set()\n",
    "    b=set()\n",
    "    with open('StopDiff_'+Date+'.txt','w') as f:\n",
    "        for name in os.listdir(InputOri):\n",
    "            for i in open(InputOri+'\\\\'+name,'r'):\n",
    "                a.add(i.strip())\n",
    "        for name in os.listdir(InputChe):\n",
    "            for i in open(InputChe+'\\\\'+name,'r'):\n",
    "                b.add(i.strip())\n",
    "        for w in list(set(a).difference(set(b))):\n",
    "            f.write(w.strip()+'\\n')"
   ]
  },
  {
   "cell_type": "code",
   "execution_count": 2,
   "metadata": {
    "collapsed": true
   },
   "outputs": [],
   "source": [
    "StopVersus('Stop','Stopc','20160106')"
   ]
  },
  {
   "cell_type": "markdown",
   "metadata": {},
   "source": [
    "# [二版]找出被去除的停用詞\n",
    "使用方法：\n",
    "\n",
    "    StopVersusII( 原資料夾 , 檢查過的資料夾 , 日期)\n",
    "    \n",
    "    原　資　料　夾：[字串]。資料夾名，內含所有的停用詞檔(TXT)\n",
    "    \n",
    "    檢查過的資料夾：[字串]。資料夾名，內含所有檢查過後的停用詞檔(TXT)\n",
    "    \n",
    "    日　　　期　　：[字串]。EX：'20160106'\n",
    "    \n",
    "    使用此法會找出哪些停用詞在檢查時被刪掉了\n",
    "    \n",
    "使用範例：\n",
    "\n",
    "    StopVersusII('Stop','Stopc','20160106')\n",
    "    \n",
    "注　　意：\n",
    "\n",
    "    所有TXT檔編碼都要調成 [ ＵＴＦ－８ ]，且檔案內的＂第一行＂要空下來\n",
    "    \n",
    "方法結果：\n",
    "\n",
    "    會在所在的資料夾產生三個TXT檔，開頭分別為：\n",
    "    1.Stop_Orig_\n",
    "        原資料夾的集合，統整再一起，會去除重複值\n",
    "    2.Stop_Edit_\n",
    "        檢查後資料夾的集合，統整再一起，會去除重複值\n",
    "    3.Stop_Diff_\n",
    "        內含被刪除的停用詞。\n",
    "        \n",
    "    畫面則會印出：\n",
    "    1.原資料夾內的所有檔案名稱；匯聚完的字詞總量\n",
    "    2.檢查後檔內的所有檔案名稱；匯聚完的字詞總量\n",
    "    3.被刪除的字詞總量"
   ]
  },
  {
   "cell_type": "code",
   "execution_count": 3,
   "metadata": {
    "collapsed": true
   },
   "outputs": [],
   "source": [
    "def StopVersusII(InputOri,InputChe,Date):\n",
    "    import os\n",
    "    a=set()\n",
    "    b=set()\n",
    "    #開一個檔案，寫入被刪除的詞語\n",
    "    with open('Stop_Diff_'+Date+'.txt','w') as f:\n",
    "        \n",
    "        #讀取原停用詞，存入setA\n",
    "        for name in os.listdir(InputOri):\n",
    "            for i in open(InputOri+'\\\\'+name,'r'):\n",
    "                a.add(i.strip())\n",
    "            print name,'\\t',\n",
    "        print ''\n",
    "        \n",
    "        #把setA寫進檔案\n",
    "        with open('Stop_Orig_'+Date+'.txt','w') as fo:\n",
    "            for each in a:\n",
    "                fo.write(each+'\\n')\n",
    "        print '原字詞\\t|',len([line for line in open('Stop_Orig_'+Date+'.txt')]),'\\n'\n",
    "\n",
    "        #讀取原停用詞，存入setB\n",
    "        for name in os.listdir(InputChe):\n",
    "            for i in open(InputChe+'\\\\'+name,'r'):\n",
    "                b.add(i.strip())\n",
    "            print name,'\\t',\n",
    "        print ''\n",
    "        \n",
    "        #把setB寫進檔案\n",
    "        with open('Stop_Edit_'+Date+'.txt','w') as fc:\n",
    "            for each in b:\n",
    "                fc.write(each+'\\n')\n",
    "        print '修改字詞\\t|',len([line for line in open('Stop_Edit_'+Date+'.txt')]),'\\n'\n",
    "\n",
    "        #把setA有的，setB沒有的 寫進檔案\n",
    "        for w in list(set(a).difference(set(b))):\n",
    "            f.write(w.strip()+'\\n')\n",
    "            \n",
    "    print '刪除字詞\\t|',len([line for line in open('Stop_Diff_'+Date+'.txt')])"
   ]
  },
  {
   "cell_type": "code",
   "execution_count": 4,
   "metadata": {
    "collapsed": false
   },
   "outputs": [
    {
     "name": "stdout",
     "output_type": "stream",
     "text": [
      "stop1.txt \tstop2.txt \tstop3.txt \tstop4.txt \tstop5.txt \t\n",
      "原字詞\t| 19930 \n",
      "\n",
      "stop1c.txt \tstop2c.txt \tstop3c.txt \tstop4c.txt \tstop5c.txt \t\n",
      "修改字詞\t| 18593 \n",
      "\n",
      "刪除字詞\t| 1349\n"
     ]
    }
   ],
   "source": [
    "StopVersusII('Stop','Stopc','20160106')"
   ]
  }
 ],
 "metadata": {
  "kernelspec": {
   "display_name": "Python 2",
   "language": "python",
   "name": "python2"
  },
  "language_info": {
   "codemirror_mode": {
    "name": "ipython",
    "version": 2
   },
   "file_extension": ".py",
   "mimetype": "text/x-python",
   "name": "python",
   "nbconvert_exporter": "python",
   "pygments_lexer": "ipython2",
   "version": "2.7.11"
  }
 },
 "nbformat": 4,
 "nbformat_minor": 0
}
