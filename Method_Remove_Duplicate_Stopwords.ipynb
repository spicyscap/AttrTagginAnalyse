{
 "cells": [
  {
   "cell_type": "markdown",
   "metadata": {},
   "source": [
    "# 去除重複的停用詞\n",
    "使用方法：\n",
    "\n",
    "    joinStopwords( 傳入檔(txt) , 傳出檔(txt) )\n",
    "    \n",
    "    傳入檔：把多個停用詞庫合併在一起的檔，有重複沒關係。但內部格式必須為\"一行一個詞語\"( 詞語後不得有逗號 )\n",
    "    \n",
    "    傳出檔：自定義檔案名稱，內容會是去除重複值後的停用詞庫，且已排序完成\n",
    "    \n",
    "使用範例：\n",
    "\n",
    "    joinStopwords('stopneww.txt','stopword_1222.txt')"
   ]
  },
  {
   "cell_type": "code",
   "execution_count": 12,
   "metadata": {
    "collapsed": false
   },
   "outputs": [],
   "source": [
    "def joinStopwords(oldfiles,newfiles):\n",
    "    stop = []\n",
    "    for i in open(oldfiles,'r'):#讀取Combine過後的文件\n",
    "        stop.append(i.strip())#寫進陣列裡\n",
    "\n",
    "    l2 = {}.fromkeys(stop).keys()#去除重複值\n",
    "    l3 = sorted(l2)#排序\n",
    "    #print l2\n",
    "    #print ' '.join(l2).strip()\n",
    "    #print ' '.join(l3).strip()\n",
    "    f = open(newfiles,'w')#另寫進新的檔案裡\n",
    "    for u in l3:\n",
    "        f.write(u.strip())\n",
    "        f.write(\"\\n\")\n",
    "    f.close()"
   ]
  }
 ],
 "metadata": {
  "kernelspec": {
   "display_name": "Python 2",
   "language": "python",
   "name": "python2"
  },
  "language_info": {
   "codemirror_mode": {
    "name": "ipython",
    "version": 2
   },
   "file_extension": ".py",
   "mimetype": "text/x-python",
   "name": "python",
   "nbconvert_exporter": "python",
   "pygments_lexer": "ipython2",
   "version": "2.7.11"
  }
 },
 "nbformat": 4,
 "nbformat_minor": 0
}
