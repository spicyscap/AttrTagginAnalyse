{
 "cells": [
  {
   "cell_type": "markdown",
   "metadata": {},
   "source": [
    "# 將 Method_Write_FourWay_PK_Result 的結果，作清洗(去除逗號,英數字)的方法\n",
    "\n",
    "使用範例：\n",
    "\n",
    "    CutEng(InputFile,OutputFile)\n",
    "\n",
    "    InputFile : 原檔 \n",
    "    (EX JiebaTfidf-30-20160104Test.txt)\n",
    "    \n",
    "    OutputFile: 存放'轉換過'的txt檔的資料夾 (自行命名)\n",
    "    (EX NOENG_JiebaTfidf-30-20160104Test.txt)"
   ]
  },
  {
   "cell_type": "code",
   "execution_count": 1,
   "metadata": {
    "collapsed": true
   },
   "outputs": [],
   "source": [
    "def CutEng(InputFile,OutputFile):\n",
    "    import re\n",
    "    fil = open(OutputFile,'w')\n",
    "    for i in open(InputFile,'r'):\n",
    "        if re.match('(.*)(,)',i): #去除逗號\n",
    "            g = re.match('(.*)(,)',i)\n",
    "            if not re.match('([\\w])(.*)',g.group(1)): #去除英文字\n",
    "                fil.write(g.group(1))\n",
    "                fil.write('\\n')\n",
    "    fil.close()            "
   ]
  },
  {
   "cell_type": "code",
   "execution_count": 2,
   "metadata": {
    "collapsed": true
   },
   "outputs": [],
   "source": [
    "CutEng('SciTfidf-30-20160104Test.txt','NOENG_SciTfidf-30-20160104Test.txt')"
   ]
  }
 ],
 "metadata": {
  "kernelspec": {
   "display_name": "Python 2",
   "language": "python",
   "name": "python2"
  },
  "language_info": {
   "codemirror_mode": {
    "name": "ipython",
    "version": 2
   },
   "file_extension": ".py",
   "mimetype": "text/x-python",
   "name": "python",
   "nbconvert_exporter": "python",
   "pygments_lexer": "ipython2",
   "version": "2.7.11"
  }
 },
 "nbformat": 4,
 "nbformat_minor": 0
}
